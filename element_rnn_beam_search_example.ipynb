{
 "cells": [
  {
   "cell_type": "code",
   "execution_count": 1,
   "metadata": {
    "collapsed": false
   },
   "outputs": [],
   "source": [
    "-- import the necessary torch libraries\n",
    "require 'rnn'\n",
    "require 'optim'"
   ]
  },
  {
   "cell_type": "code",
   "execution_count": 2,
   "metadata": {
    "collapsed": false
   },
   "outputs": [],
   "source": [
    "-- first define a sequence just for demo\n",
    "data = string.lower(\"Singapore, officially the Republic of Singapore, sometimes referred to as the Lion City or the Little Red Dot, is a sovereign city state in Southeast Asia. It lies one degree (137 km) north of the equator, at the southern tip of peninsular Malaysia, with Indonesia's Riau Islands to the south. Singapore's territory consists of one main island along with 62 other islets. Since independence, extensive land reclamation has increased its total size by 23% (130 km2), and its greening policy has covered the densely populated island with tropical flora, parks and gardens. Stamford Raffles founded colonial Singapore in 1819 as a trading post of the East India Company; after its collapse and the eventual establishment of the British Raj, the islands were ceded to Britain and became part of its Straits Settlements in 1826. During the Second World War, Singapore was occupied by Japan. It gained independence from the UK in 1963 by federating with other former British territories to form Malaysia, but was expelled two years later over ideological differences, becoming a sovereign nation in 1965. After early years of turbulence, and despite lacking natural resources and a hinterland, the nation developed rapidly as an Asian Tiger economy, based on external trade and its workforce. Singapore is a global commerce, finance and transport hub. Its standings include: the most technology ready nation (WEF), top International-meetings city (UIA), city with best investment potential (BERI), second-most competitive country, third-largest foreign exchange market, third-largest financial centre, third-largest oil refining and trading centre, and the second-busiest container port. The country has also been identified as a tax haven. Singapore ranks 5th internationally and first in Asia on the UN Human Development Index, and 3rd highest per capita income. It is ranked highly in education, healthcare, life expectancy, quality of life, personal safety, and housing. Although income inequality is high, 90% of homes are owner-occupied. 38% of Singapore's 5.6 million residents are permanent residents and other foreign nationals. There are four official languages: English (common and first language), Malay, Mandarin, Tamil; almost all Singaporeans are bilingual. Singapore is a unitary multiparty parliamentary republic, with a Westminster system of unicameral parliamentary government. The People's Action Party has won every election since self-government in 1959. The dominance of the PAP, coupled with a low level of press freedom and restrictions on civil liberties and political rights, has led to Singapore being classified by some as a semi-authoritarian regime. One of the five founding members of the ASEAN, Singapore is also the host of the Asia-Pacific Economic Cooperation (APEC) Secretariat, and a member of the East Asia Summit, Non-Aligned Movement, and the Commonwealth of Nations.\")"
   ]
  },
  {
   "cell_type": "code",
   "execution_count": 5,
   "metadata": {
    "collapsed": false
   },
   "outputs": [
    {
     "data": {
      "text/plain": [
       "2902\t\n"
      ]
     },
     "execution_count": 5,
     "metadata": {},
     "output_type": "execute_result"
    }
   ],
   "source": [
    "#data"
   ]
  },
  {
   "cell_type": "code",
   "execution_count": null,
   "metadata": {
    "collapsed": true
   },
   "outputs": [],
   "source": [
    "data = string.lower(\"Singapore, officially the Republic of Singapore, sometimes referred to as the Lion City or the Little Red Dot, is a sovereign city state in Southeast Asia.\")"
   ]
  },
  {
   "cell_type": "code",
   "execution_count": 3,
   "metadata": {
    "collapsed": false
   },
   "outputs": [],
   "source": [
    "-- now we have to read in the characters and assign an index to each character\n",
    "char_index = {} -- a hash table\n",
    "input = {}\n",
    "target = {}\n",
    "i = 0\n",
    "j = 0\n",
    "for c in data:gmatch\".\" do -- this line is to iterate the characters in data\n",
    "  if char_index[c] == nil then -- then is always necessary in a if statement\n",
    "    i = i+1\n",
    "    char_index[c] = i\n",
    "  end\n",
    "  j = j+1\n",
    "  input[j] = torch.LongTensor({char_index[c]})\n",
    "  if j >= 2 then\n",
    "    target[j-1] = input[j]\n",
    "  end\n",
    "end\n",
    "\n",
    "-- add the end-of-sequence token\n",
    "i = i+1\n",
    "char_index['<EOS>'] = i\n",
    "\n",
    "-- add the EOS token at end of output\n",
    "target[j] = torch.LongTensor({char_index['<EOS>']})\n",
    "vocab_size = i -- total vocab size"
   ]
  },
  {
   "cell_type": "code",
   "execution_count": 4,
   "metadata": {
    "collapsed": false
   },
   "outputs": [],
   "source": [
    "target = nn.Sequential()\n",
    "  :add(nn.JoinTable(1)) -- convert table into tensor\n",
    "  :forward(target)"
   ]
  },
  {
   "cell_type": "code",
   "execution_count": 5,
   "metadata": {
    "collapsed": false
   },
   "outputs": [
    {
     "data": {
      "text/plain": [
       "46\t\n"
      ]
     },
     "execution_count": 5,
     "metadata": {},
     "output_type": "execute_result"
    }
   ],
   "source": [
    "vocab_size"
   ]
  },
  {
   "cell_type": "code",
   "execution_count": 6,
   "metadata": {
    "collapsed": true
   },
   "outputs": [],
   "source": [
    "K=92 -- size of the embedding dimensions\n",
    "lk = nn.LookupTable(vocab_size, K)\n",
    "num_layers = 2"
   ]
  },
  {
   "cell_type": "code",
   "execution_count": null,
   "metadata": {
    "collapsed": false
   },
   "outputs": [],
   "source": [
    "-- now create a neural network architecture that will read from input and update the weights in the lstm cells\n",
    "char_lstm = nn.Sequential() -- create the container for this architecture\n",
    "  :add(nn.Sequencer(lk)) -- add the embedding layer to this\n",
    "  :add(nn.JoinTable(1)) -- convert table into tensor\n",
    "  :add(nn.Unsqueeze(2))\n",
    "\n",
    "char_lstm.num_layers = num_layers\n",
    "char_lstm.layers = {}\n",
    "for i=1,num_layers do\n",
    "  char_lstm.layers[i] = nn.SeqLSTM(K, K)\n",
    "  char_lstm:add(char_lstm.layers[i])\n",
    "  char_lstm:add(nn.Sequencer(nn.Tanh()))\n",
    "end\n",
    "  \n",
    "upper_layers = nn.Sequential()\n",
    "  :add(nn.Linear(K, vocab_size))\n",
    "  :add(nn.LogSoftMax())\n",
    "\n",
    "char_lstm:add(nn.Sequencer(upper_layers))"
   ]
  },
  {
   "cell_type": "code",
   "execution_count": 7,
   "metadata": {
    "collapsed": true
   },
   "outputs": [],
   "source": [
    "criterion = nn.SequencerCriterion(nn.ClassNLLCriterion()) -- the loss function, negative log likelihood"
   ]
  },
  {
   "cell_type": "code",
   "execution_count": 9,
   "metadata": {
    "collapsed": false
   },
   "outputs": [],
   "source": [
    "char_lstm = torch.load('char_lstm.model.ascii', 'ascii')"
   ]
  },
  {
   "cell_type": "code",
   "execution_count": 10,
   "metadata": {
    "collapsed": true
   },
   "outputs": [],
   "source": [
    "params, gradParams = char_lstm:getParameters()"
   ]
  },
  {
   "cell_type": "code",
   "execution_count": 11,
   "metadata": {
    "collapsed": true
   },
   "outputs": [],
   "source": [
    "config = {\n",
    "  learningRate = 1e-3,\n",
    "--   weightDecay = 1e-3, --l2 regularization\n",
    "  momentum = 0.9\n",
    "}\n",
    "timer = torch.Timer()"
   ]
  },
  {
   "cell_type": "code",
   "execution_count": 2,
   "metadata": {
    "collapsed": false
   },
   "outputs": [
    {
     "data": {
      "text/plain": [
       "Iteration 10: NLL = 76.857857, perplexity = 1.026838, elapsed time 0.000000 secs\t\n"
      ]
     },
     "execution_count": 2,
     "metadata": {},
     "output_type": "execute_result"
    },
    {
     "data": {
      "text/plain": [
       "Iteration 20: NLL = 74.194774, perplexity = 1.025896, elapsed time 0.000000 secs\t\n"
      ]
     },
     "execution_count": 2,
     "metadata": {},
     "output_type": "execute_result"
    },
    {
     "data": {
      "text/plain": [
       "Iteration 30: NLL = 71.684321, perplexity = 1.025009, elapsed time 0.000000 secs\t\n"
      ]
     },
     "execution_count": 2,
     "metadata": {},
     "output_type": "execute_result"
    },
    {
     "data": {
      "text/plain": [
       "Iteration 40: NLL = 69.315313, perplexity = 1.024173, elapsed time 0.000000 secs\t\n"
      ]
     },
     "execution_count": 2,
     "metadata": {},
     "output_type": "execute_result"
    },
    {
     "data": {
      "text/plain": [
       "Iteration 50: NLL = 67.077630, perplexity = 1.023383, elapsed time 0.000000 secs\t\n"
      ]
     },
     "execution_count": 2,
     "metadata": {},
     "output_type": "execute_result"
    },
    {
     "data": {
      "text/plain": [
       "Iteration 60: NLL = 64.962001, perplexity = 1.022638, elapsed time 0.000000 secs\t\n"
      ]
     },
     "execution_count": 2,
     "metadata": {},
     "output_type": "execute_result"
    },
    {
     "data": {
      "text/plain": [
       "Iteration 70: NLL = 62.959855, perplexity = 1.021932, elapsed time 0.000000 secs\t\n"
      ]
     },
     "execution_count": 2,
     "metadata": {},
     "output_type": "execute_result"
    },
    {
     "data": {
      "text/plain": [
       "Iteration 80: NLL = 61.063244, perplexity = 1.021265, elapsed time 0.000000 secs\t\n"
      ]
     },
     "execution_count": 2,
     "metadata": {},
     "output_type": "execute_result"
    },
    {
     "data": {
      "text/plain": [
       "Iteration 90: NLL = 59.264818, perplexity = 1.020632, elapsed time 0.000000 secs\t\n"
      ]
     },
     "execution_count": 2,
     "metadata": {},
     "output_type": "execute_result"
    },
    {
     "data": {
      "text/plain": [
       "Iteration 100: NLL = 57.557805, perplexity = 1.020032, elapsed time 0.000000 secs\t\n"
      ]
     },
     "execution_count": 2,
     "metadata": {},
     "output_type": "execute_result"
    },
    {
     "data": {
      "text/plain": [
       "Iteration 110: NLL = 55.935962, perplexity = 1.019462, elapsed time 0.000000 secs\t\n"
      ]
     },
     "execution_count": 2,
     "metadata": {},
     "output_type": "execute_result"
    },
    {
     "data": {
      "text/plain": [
       "Iteration 120: NLL = 54.393540, perplexity = 1.018920, elapsed time 0.000000 secs\t\n"
      ]
     },
     "execution_count": 2,
     "metadata": {},
     "output_type": "execute_result"
    },
    {
     "data": {
      "text/plain": [
       "Iteration 130: NLL = 52.925238, perplexity = 1.018405, elapsed time 0.000000 secs\t\n"
      ]
     },
     "execution_count": 2,
     "metadata": {},
     "output_type": "execute_result"
    },
    {
     "data": {
      "text/plain": [
       "Iteration 140: NLL = 51.526169, perplexity = 1.017914, elapsed time 0.000000 secs\t\n"
      ]
     },
     "execution_count": 2,
     "metadata": {},
     "output_type": "execute_result"
    },
    {
     "data": {
      "text/plain": [
       "Iteration 150: NLL = 50.191831, perplexity = 1.017446, elapsed time 0.000000 secs\t\n"
      ]
     },
     "execution_count": 2,
     "metadata": {},
     "output_type": "execute_result"
    },
    {
     "data": {
      "text/plain": [
       "Iteration 160: NLL = 48.918073, perplexity = 1.017000, elapsed time 0.000000 secs\t\n"
      ]
     },
     "execution_count": 2,
     "metadata": {},
     "output_type": "execute_result"
    },
    {
     "data": {
      "text/plain": [
       "Iteration 170: NLL = 47.701073, perplexity = 1.016573, elapsed time 0.000000 secs\t\n"
      ]
     },
     "execution_count": 2,
     "metadata": {},
     "output_type": "execute_result"
    },
    {
     "data": {
      "text/plain": [
       "Iteration 180: NLL = 46.537303, perplexity = 1.016166, elapsed time 0.000000 secs\t\n"
      ]
     },
     "execution_count": 2,
     "metadata": {},
     "output_type": "execute_result"
    },
    {
     "data": {
      "text/plain": [
       "Iteration 190: NLL = 45.423507, perplexity = 1.015776, elapsed time 0.000000 secs\t\n"
      ]
     },
     "execution_count": 2,
     "metadata": {},
     "output_type": "execute_result"
    },
    {
     "data": {
      "text/plain": [
       "Iteration 200: NLL = 44.356666, perplexity = 1.015402, elapsed time 0.000000 secs\t\n"
      ]
     },
     "execution_count": 2,
     "metadata": {},
     "output_type": "execute_result"
    }
   ],
   "source": [
    "total_iteration = 200\n",
    "for iteration = 1,total_iteration do  \n",
    "  function feval(params)\n",
    "    gradParams:zero()\n",
    "    local pred = char_lstm:forward(input)\n",
    "    local err = criterion:forward(pred, target)\n",
    "    \n",
    "    local grad_output = criterion:backward(pred, target)\n",
    "    local grad_input = char_lstm:backward(input, grad_output)\n",
    "    return err, gradParams\n",
    "  end\n",
    "  params, err = optim.sgd(feval, params, config)\n",
    "  if iteration % 10 == 0 then\n",
    "    local perplexity = torch.exp(err[1] / target:size(1))\n",
    "    print(string.format(\"Iteration %d: NLL = %f, perplexity = %f, elapsed time %f secs\", \n",
    "      iteration, err[1], perplexity, timer:time().real))\n",
    "    timer:reset()\n",
    "  end\n",
    "end\n",
    "timer:stop()"
   ]
  },
  {
   "cell_type": "code",
   "execution_count": 13,
   "metadata": {
    "collapsed": false
   },
   "outputs": [],
   "source": [
    "index_char = {}\n",
    "for k,v in pairs(char_index) do\n",
    "  index_char[v] = k\n",
    "end"
   ]
  },
  {
   "cell_type": "code",
   "execution_count": 1,
   "metadata": {
    "collapsed": false
   },
   "outputs": [
    {
     "data": {
      "text/plain": [
       "\n"
      ]
     },
     "execution_count": 1,
     "metadata": {},
     "output_type": "execute_result"
    }
   ],
   "source": [
    "torch.save('char_lstm.model.ascii', char_lstm, 'ascii')"
   ]
  },
  {
   "cell_type": "code",
   "execution_count": 14,
   "metadata": {
    "collapsed": false
   },
   "outputs": [],
   "source": [
    "-- beam search\n",
    "function beam_search(model, beam_size, max_len, start_symbol, end_symbol)\n",
    "  model:forget()\n",
    "  model:remember('neither')\n",
    "  for i=1,num_layers do\n",
    "    model.layers[i].userPrevCell   = nil\n",
    "    model.layers[i].userPrevOutput = nil\n",
    "  end\n",
    "  \n",
    "  local current = start_symbol\n",
    "  local candidates = {} -- maintain top sequences according to beam_size\n",
    "  \n",
    "  table.insert(candidates, {\n",
    "      ['str'] = {[1] = current},\n",
    "      ['logll'] = 0.0,\n",
    "      ['len'] = 1\n",
    "    })\n",
    "  \n",
    "  for i=2,max_len do\n",
    "    -- go through the candidates, for each candidate, expand by beam_size, add it to list of candidates\n",
    "    local new_candidates = {}\n",
    "    for j=1,#candidates do\n",
    "      -- transfer the previous states of lstm to the current lstm\n",
    "      if i>2 then\n",
    "        for k=1,num_layers do\n",
    "          model.layers[k].userPrevCell   = candidates[j].userPrevCell[k]\n",
    "          model.layers[k].userPrevOutput = candidates[j].userPrevOutput[k]\n",
    "        end\n",
    "      end\n",
    "      -- get the last predicted entry\n",
    "      local current = candidates[j].str[candidates[j].len]\n",
    "      if current ~= end_symbol then\n",
    "        local log_prob = model:forward({torch.LongTensor({current})})\n",
    "        local sorted_log_prob, idx = torch.topk(log_prob[1][1], beam_size, 1, true)\n",
    "        for n=1,beam_size do\n",
    "          local current_candidate = {\n",
    "            ['str'] = { table.unpack(candidates[j].str) },\n",
    "            ['logll'] = candidates[j].logll + sorted_log_prob[n],\n",
    "            ['userPrevOutput'] = {},\n",
    "            ['userPrevCell'] = {}\n",
    "          }\n",
    "          table.insert(current_candidate.str, idx[n])\n",
    "          current_candidate.len = #current_candidate.str\n",
    "          current_candidate.perplexity = torch.exp(-current_candidate.logll / current_candidate.len)\n",
    "          for k=1, num_layers do\n",
    "            current_candidate.userPrevCell[k] = model.layers[k].cell[1]:clone()\n",
    "            current_candidate.userPrevOutput[k] = model.layers[k].output[1]:clone()\n",
    "          end\n",
    "          table.insert(new_candidates, current_candidate)\n",
    "        end\n",
    "      end\n",
    "    end\n",
    "--     then sort candidates and only retain the top beam_sizes\n",
    "    table.sort(new_candidates, function (c1, c2) return c1.perplexity < c2.perplexity end)\n",
    "    -- add topk to candidates\n",
    "    candidates = {}\n",
    "    for i=1,math.min(beam_size, #new_candidates) do\n",
    "      table.insert(candidates, new_candidates[i])\n",
    "    end\n",
    "  end\n",
    "--   print(candidates)\n",
    "  return candidates\n",
    "end"
   ]
  },
  {
   "cell_type": "code",
   "execution_count": 6,
   "metadata": {
    "collapsed": false
   },
   "outputs": [],
   "source": [
    "results = beam_search(char_lstm, 3, 3000, 1, char_index['<EOS>'])"
   ]
  },
  {
   "cell_type": "code",
   "execution_count": 7,
   "metadata": {
    "collapsed": false
   },
   "outputs": [
    {
     "data": {
      "text/plain": [
       "1\tsingapore, officially the republic of singapore, sometimes referred to as the lion city or the little red dot, is a sovereign city state in southeast asia. it lies one degree (137 km) north of the equator, at the southern tip of peninsular malaysia, with indonesia's riau islands to the south. singapore's territory consists of one main island along with 62 other islets. since independence, extensive land reclamation has increased its total size by 23% (130 km2), and its greening policy has covered the densely populated island with tropical flora, parks and gardens. stamford raffles founded colonial singapore in 1819 as a trading post of the east india company; after its collapse and the eventual establishment of the british raj, the islands were ceded to britain and became part of its straits settlements in 1826. during the second world war, singapore was occupied by japan. it gained independence from the uk in 1963 by federating with other former british territories to form malaysia, but was expelled two years later over ideological differences, becoming a sovereign nation in 1965. after early years of turbulence, and despite lacking natural resources and a hinterland, the nation developed rapidly as an asian tiger economy, based on external trade and its workforce. singapore is a global commerce, finance and transport hub. its standings include: the most technology ready nation (wef), top international-meetings city (uia), city with best investment potential (beri), second-most competitive country, third-largest foreign exchange market, third-largest financial centre, third-largest oil refining and trading centre, and the second-busiest container port. the country has also been identified as a tax haven. singapore ranks 5th internationally and first in asia on the un human development index, and 3rd highest per capita income. it is ranked highly in education, healthcare, life expectancy, quality of life, personal safety, and housing. although income inequality is high, 90% of homes are owner-occupied. 38% of singapore's 5.6 million residents are permanent residents and other foreign nationals. there are four official languages: english (common and first language), malay, mandarin, tamil; almost all singaporeans are bilingual. singapore is a unitary multiparty parliamentary republic, with a westminster system of unicameral parliamentary government. the people's action party has won every election since self-government in 1959. the dominance of the pap, coupled with a low level of press freedom and restrictions on civil liberties and political rights, has led to singapore being classified by some as a semi-authoritarian regime. one of the five founding members of the asean, singapore is also the host of the asia-pacific economic cooperation (apec) secretariat, and a member of the east asia summit, non-aligned movement, and the commonwealth of nations.vement of the british raj, the islands were ceded to britain and became part of its straits settle\t\n"
      ]
     },
     "execution_count": 7,
     "metadata": {},
     "output_type": "execute_result"
    },
    {
     "data": {
      "text/plain": [
       "2\tsingapore, officially the republic of singapore, sometimes referred to as the lion city or the little red dot, is a sovereign city state in southeast asia. it lies one degree (137 km) north of the equator, at the southern tip of peninsular malaysia, with indonesia's riau islands to the south. singapore's territory consists of one main island along with 62 other islets. since independence, extensive land reclamation has increased its total size by 23% (130 km2), and its greening policy has covered the densely populated island with tropical flora, parks and gardens. stamford raffles founded colonial singapore in 1819 as a trading post of the east india company; after its collapse and the eventual establishment of the british raj, the islands were ceded to britain and became part of its straits settlements in 1826. during the second world war, singapore was occupied by japan. it gained independence from the uk in 1963 by federating with other former british territories to form malaysia, but was expelled two years later over ideological differences, becoming a sovereign nation in 1965. after early years of turbulence, and despite lacking natural resources and a hinterland, the nation developed rapidly as an asian tiger economy, based on external trade and its workforce. singapore is a global commerce, finance and transport hub. its standings include: the most technology ready nation (wef), top international-meetings city (uia), city with best investment potential (beri), second-most competitive country, third-largest foreign exchange market, third-largest financial centre, third-largest oil refining and trading centre, and the second-busiest container port. the country has also been identified as a tax haven. singapore ranks 5th internationally and first in asia on the un human development index, and 3rd highest per capita income. it is ranked highly in education, healthcare, life expectancy, quality of life, personal safety, and housing. although income inequality is high, 90% of homes are owner-occupied. 38% of singapore's 5.6 million residents are permanent residents and other foreign nationals. there are four official languages: english (common and first language), malay, mandarin, tamil; almost all singaporeans are bilingual. singapore is a unitary multiparty parliamentary republic, with a westminster system of unicameral parliamentary government. the people's action party has won every election since self-government in 1959. the dominance of the pap, coupled with a low level of press freedom and restrictions on civil liberties and political rights, has led to singapore being classified by some as a semi-authoritarian regime. one of the five founding members of the asean, singapore is also the host of the asia-pacific economic cooperation (apec) secretariat, and a member of the east asia summit, non-aligned movement, and the commonwealth of nations.6mettential (beri), second-most competitive country, third-largest foreign exchange market, third-\t\n"
      ]
     },
     "execution_count": 7,
     "metadata": {},
     "output_type": "execute_result"
    },
    {
     "data": {
      "text/plain": [
       "3\tsingapore, officially the republic of singapore, sometimes referred to as the lion city or the little red dot, is a sovereign city state in southeast asia. it lies one degree (137 km) north of the equator, at the southern tip of peninsular malaysia, with indonesia's riau islands to the south. singapore's territory consists of one main island along with 62 other islets. since independence, extensive land reclamation has increased its total size by 23% (130 km2), and its greening policy has covered the densely populated island with tropical flora, parks and gardens. stamford raffles founded colonial singapore in 1819 as a trading post of the east india company; after its collapse and the eventual establishment of the british raj, the islands were ceded to britain and became part of its straits settlements in 1826. during the second world war, singapore was occupied by japan. it gained independence from the uk in 1963 by federating with other former british territories to form malaysia, but was expelled two years later over ideological differences, becoming a sovereign nation in 1965. after early years of turbulence, and despite lacking natural resources and a hinterland, the nation developed rapidly as an asian tiger economy, based on external trade and its workforce. singapore is a global commerce, finance and transport hub. its standings include: the most technology ready nation (wef), top international-meetings city (uia), city with best investment potential (beri), second-most competitive country, third-largest foreign exchange market, third-largest financial centre, third-largest oil refining and trading centre, and the second-busiest container port. the country has also been identified as a tax haven. singapore ranks 5th internationally and first in asia on the un human development index, and 3rd highest per capita income. it is ranked highly in education, healthcare, life expectancy, quality of life, personal safety, and housing. although income inequality is high, 90% of homes are owner-occupied. 38% of singapore's 5.6 million residents are permanent residents and other foreign nationals. there are four official languages: english (common and first language), malay, mandarin, tamil; almost all singaporeans are bilingual. singapore is a unitary multiparty parliamentary republic, with a westminster system of unicameral parliamentary government. the people's action party has won every election since self-government in 1959. the dominance of the pap, coupled with a low level of press freedom and restrictions on civil liberties and political rights, has led to singapore being classified by some as a semi-authoritarian regime. one of the five founding members of the asean, singapore is also the host of the asia-pacific economic cooperation (apec) secretariat, and a member of the east asia summit, non-aligned movement, and the commonwealth of nations.vement of the british raj, the islands were ceded to britain and became part of its straits setttl\t\n"
      ]
     },
     "execution_count": 7,
     "metadata": {},
     "output_type": "execute_result"
    }
   ],
   "source": [
    "for i=1,#results do\n",
    "  str = ''\n",
    "  for _, idx in ipairs(results[i].str) do\n",
    "    str = str .. index_char[idx]\n",
    "  end\n",
    "  print(i, str)\n",
    "end"
   ]
  },
  {
   "cell_type": "code",
   "execution_count": 17,
   "metadata": {
    "collapsed": false
   },
   "outputs": [],
   "source": [
    "function sample(log_prob)\n",
    "  rand_p = torch.uniform()\n",
    "  cum_p = torch.FloatTensor(log_prob:size())\n",
    "  cum_p[1] = torch.exp(log_prob[1])\n",
    "  for i=1,log_prob:size(1)-1 do\n",
    "    if rand_p <= cum_p[i] then\n",
    "      return i\n",
    "    else\n",
    "      cum_p[i+1] = cum_p[i] + torch.exp(log_prob[i+1])\n",
    "    end\n",
    "  end\n",
    "  return log_prob:size(1)\n",
    "end"
   ]
  },
  {
   "cell_type": "code",
   "execution_count": 30,
   "metadata": {
    "collapsed": false
   },
   "outputs": [
    {
     "data": {
      "text/plain": [
       "singapore, (cmetto fanthorial singapore former wa) citer evensive of the fom the un idenderents and o\t\n"
      ]
     },
     "execution_count": 30,
     "metadata": {},
     "output_type": "execute_result"
    }
   ],
   "source": [
    "-- generating by sampling\n",
    "local c = 's'\n",
    "local str = c\n",
    "local c_idx = char_index[c]\n",
    "for i=1,100 do\n",
    "  local log_prob = char_lstm:forward({torch.LongTensor({c_idx})})\n",
    "  for k=1,num_layers do\n",
    "    char_lstm.layers[k].userPrevCell   = char_lstm.layers[k].cell[-1]\n",
    "    char_lstm.layers[k].userPrevOutput = char_lstm.layers[k].output[-1]\n",
    "  end\n",
    "  log_prob = torch.squeeze(log_prob)\n",
    "  c_idx = sample(log_prob)\n",
    "  str = str .. index_char[c_idx]\n",
    "end\n",
    "print(str)"
   ]
  },
  {
   "cell_type": "code",
   "execution_count": null,
   "metadata": {
    "collapsed": true
   },
   "outputs": [],
   "source": []
  }
 ],
 "metadata": {
  "kernelspec": {
   "display_name": "iTorch",
   "language": "lua",
   "name": "itorch"
  },
  "language_info": {
   "name": "lua",
   "version": "5.1"
  }
 },
 "nbformat": 4,
 "nbformat_minor": 2
}
